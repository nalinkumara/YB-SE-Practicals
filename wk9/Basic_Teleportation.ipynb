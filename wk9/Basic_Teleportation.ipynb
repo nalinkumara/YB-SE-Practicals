{
 "cells": [
  {
   "cell_type": "code",
   "execution_count": 1,
   "id": "65e36ba4-7202-429b-be4f-230fac9ead15",
   "metadata": {},
   "outputs": [
    {
     "name": "stdout",
     "output_type": "stream",
     "text": [
      "Defaulting to user installation because normal site-packages is not writeable\n",
      "Collecting qiskit\n",
      "  Using cached qiskit-1.3.2-cp39-abi3-win_amd64.whl.metadata (13 kB)\n",
      "Collecting rustworkx>=0.15.0 (from qiskit)\n",
      "  Using cached rustworkx-0.16.0-cp39-abi3-win_amd64.whl.metadata (10 kB)\n",
      "Requirement already satisfied: numpy<3,>=1.17 in d:\\programs\\appdata\\local\\anaconda3\\lib\\site-packages (from qiskit) (1.26.4)\n",
      "Requirement already satisfied: scipy>=1.5 in d:\\programs\\appdata\\local\\anaconda3\\lib\\site-packages (from qiskit) (1.13.1)\n",
      "Requirement already satisfied: sympy>=1.3 in d:\\programs\\appdata\\local\\anaconda3\\lib\\site-packages (from qiskit) (1.13.2)\n",
      "Requirement already satisfied: dill>=0.3 in d:\\programs\\appdata\\local\\anaconda3\\lib\\site-packages (from qiskit) (0.3.8)\n",
      "Requirement already satisfied: python-dateutil>=2.8.0 in d:\\programs\\appdata\\local\\anaconda3\\lib\\site-packages (from qiskit) (2.9.0.post0)\n",
      "Collecting stevedore>=3.0.0 (from qiskit)\n",
      "  Using cached stevedore-5.4.0-py3-none-any.whl.metadata (2.3 kB)\n",
      "Requirement already satisfied: typing-extensions in d:\\programs\\appdata\\local\\anaconda3\\lib\\site-packages (from qiskit) (4.11.0)\n",
      "Collecting symengine<0.14,>=0.11 (from qiskit)\n",
      "  Using cached symengine-0.13.0-cp312-cp312-win_amd64.whl.metadata (1.2 kB)\n",
      "Requirement already satisfied: six>=1.5 in d:\\programs\\appdata\\local\\anaconda3\\lib\\site-packages (from python-dateutil>=2.8.0->qiskit) (1.16.0)\n",
      "Collecting pbr>=2.0.0 (from stevedore>=3.0.0->qiskit)\n",
      "  Downloading pbr-6.1.1-py2.py3-none-any.whl.metadata (3.4 kB)\n",
      "Requirement already satisfied: mpmath<1.4,>=1.1.0 in d:\\programs\\appdata\\local\\anaconda3\\lib\\site-packages (from sympy>=1.3->qiskit) (1.3.0)\n",
      "Requirement already satisfied: setuptools in d:\\programs\\appdata\\local\\anaconda3\\lib\\site-packages (from pbr>=2.0.0->stevedore>=3.0.0->qiskit) (75.1.0)\n",
      "Using cached qiskit-1.3.2-cp39-abi3-win_amd64.whl (6.5 MB)\n",
      "Using cached rustworkx-0.16.0-cp39-abi3-win_amd64.whl (2.0 MB)\n",
      "Using cached stevedore-5.4.0-py3-none-any.whl (49 kB)\n",
      "Using cached symengine-0.13.0-cp312-cp312-win_amd64.whl (17.8 MB)\n",
      "Downloading pbr-6.1.1-py2.py3-none-any.whl (108 kB)\n",
      "Installing collected packages: symengine, rustworkx, pbr, stevedore, qiskit\n",
      "Successfully installed pbr-6.1.1 qiskit-1.3.2 rustworkx-0.16.0 stevedore-5.4.0 symengine-0.13.0\n"
     ]
    },
    {
     "name": "stderr",
     "output_type": "stream",
     "text": [
      "  WARNING: The script pbr.exe is installed in 'C:\\Users\\nalin_00582\\AppData\\Roaming\\Python\\Python312\\Scripts' which is not on PATH.\n",
      "  Consider adding this directory to PATH or, if you prefer to suppress this warning, use --no-warn-script-location.\n"
     ]
    }
   ],
   "source": [
    "%pip install qiskit"
   ]
  },
  {
   "cell_type": "code",
   "execution_count": 2,
   "id": "1f2f1bd1-6abc-4177-8312-7b92cb3be91a",
   "metadata": {},
   "outputs": [
    {
     "ename": "ModuleNotFoundError",
     "evalue": "No module named 'qiskit'",
     "output_type": "error",
     "traceback": [
      "\u001b[1;31m---------------------------------------------------------------------------\u001b[0m",
      "\u001b[1;31mModuleNotFoundError\u001b[0m                       Traceback (most recent call last)",
      "Cell \u001b[1;32mIn[2], line 1\u001b[0m\n\u001b[1;32m----> 1\u001b[0m \u001b[38;5;28;01mfrom\u001b[39;00m \u001b[38;5;21;01mqiskit\u001b[39;00m \u001b[38;5;28;01mimport\u001b[39;00m QuantumCircuit\n\u001b[0;32m      2\u001b[0m \u001b[38;5;28;01mfrom\u001b[39;00m \u001b[38;5;21;01mqiskit\u001b[39;00m\u001b[38;5;21;01m.\u001b[39;00m\u001b[38;5;21;01mquantum_info\u001b[39;00m \u001b[38;5;28;01mimport\u001b[39;00m Statevector\n\u001b[0;32m      3\u001b[0m \u001b[38;5;28;01mfrom\u001b[39;00m \u001b[38;5;21;01mqiskit\u001b[39;00m\u001b[38;5;21;01m.\u001b[39;00m\u001b[38;5;21;01mvisualization\u001b[39;00m \u001b[38;5;28;01mimport\u001b[39;00m plot_bloch_multivector\n",
      "\u001b[1;31mModuleNotFoundError\u001b[0m: No module named 'qiskit'"
     ]
    }
   ],
   "source": [
    "from qiskit import QuantumCircuit\n",
    "from qiskit.quantum_info import Statevector\n",
    "from qiskit.visualization import plot_bloch_multivector\n",
    "from qiskit_aer import AerSimulator\n",
    "from qiskit.visualization import plot_histogram, plot_state_city\n",
    "from qiskit import QuantumRegister, ClassicalRegister, QuantumCircuit\n",
    "import math\n",
    "## Uncomment this to see diagrams when running in a notebook\n",
    "%matplotlib inline\n",
    "\n",
    "# Set up the quantum registers and classical registers\n",
    "alice = QuantumRegister(1, name='alice')\n",
    "ep = QuantumRegister(1, name='ep')  # Entanglement pair qubit\n",
    "bob = QuantumRegister(1, name='bob')\n",
    "\n",
    "alice_c = ClassicalRegister(1, name='alicec')\n",
    "ep_c = ClassicalRegister(1, name='epc')\n",
    "bob_c = ClassicalRegister(1, name='bobc')\n",
    "\n",
    "# Create a quantum circuit with the registers\n",
    "qc = QuantumCircuit(alice, ep, bob, alice_c, ep_c, bob_c)\n",
    "\n",
    "# Step 1: Entangle the qubits in the entanglement pair\n",
    "qc.h(ep)        # Apply Hadamard gate to create superposition on 'ep'\n",
    "qc.cx(ep, bob)  # Apply CNOT gate to entangle 'ep' with 'bob'\n",
    "qc.barrier()    # Barrier for visualization purposes\n",
    "\n",
    "# Step 2: Prepare Alice's qubit state (this is the state to be teleported)\n",
    "qc.reset(alice)  # Reset Alice's qubit to |0>\n",
    "qc.x(alice)   #to send |1>\n",
    "qc.ry(math.radians(45), alice)\n",
    "qc.h(alice)      # Apply Hadamard again to create the state to teleport\n",
    "qc.barrier()\n",
    "\n",
    "# Step 3: Perform Bell state measurement on Alice's qubit and the entanglement qubit\n",
    "qc.h(alice)       # Apply Hadamard to Alice's qubit\n",
    "qc.cx(alice, ep)  # Apply CNOT with Alice's qubit as control and 'ep' as target\n",
    "qc.measure(alice, alice_c)  # Measure Alice's qubit\n",
    "qc.measure(ep, ep_c)        # Measure the entanglement qubit 'ep'\n",
    "qc.barrier()\n",
    "\n",
    "# Step 4: Apply conditional operations on Bob's qubit based on measurement results\n",
    "qc.z(bob).c_if(alice_c, 1)  # Apply Z gate on Bob's qubit if Alice's measurement result is 1\n",
    "qc.x(bob).c_if(ep_c, 1)     # Apply X gate on Bob's qubit if 'ep' measurement result is 1\n",
    "\n",
    "# Step 5: Verify Bob's qubit (Optional: Apply inverse of the state preparation on Bob's qubit)\n",
    "#qc.h(bob)       # Apply Hadamard to revert Bob's qubit to the original state\n",
    "qc.ry(math.radians(-45), bob)  # Apply inverse rotation\n",
    "#qc.h(bob)       # Apply Hadamard again\n",
    "#qc.x(bob)\n",
    "qc.measure(bob, bob_c)  # Measure Bob's qubit to verify teleportation\n",
    "\n",
    "# Execute the quantum circuit on a simulator\n",
    "simulator = AerSimulator()\n",
    "# Simulate the circuit\n",
    "job = simulator.run(qc, shots=10000)\n",
    "\n",
    "# Get the result\n",
    "result = job.result()\n",
    "\n",
    "# Get and print the measurement results\n",
    "counts = result.get_counts(qc)\n",
    "print('Measurement outcomes:', counts)\n",
    "# Analyze how many times Alice was 0 and Bob was also 0\n",
    "successful_count = 0\n",
    "for key, val in counts.items():\n",
    "    alice_result, ep_result, bob_result = (int(bit) for bit in key.split())\n",
    "    if alice_result == 0 and bob_result == 0:\n",
    "        successful_count += val\n",
    "\n",
    "total_shots = sum(counts.values())  # Total number of shots\n",
    "\n",
    "# Calculate the percentage of successful teleportations\n",
    "success_percentage = (successful_count / total_shots) * 100\n",
    "\n",
    "print(f\"Occurrences where Alice is 0 and Bob is 0: {successful_count} out of {total_shots} shots\")\n",
    "print(f\"Success percentage: {success_percentage:.2f}%\")\n",
    "\n",
    "# Draw the quantum circuit for visualization\n",
    "qc.draw(output='mpl')  # Use 'mpl' for a better graphical representation (if in a Jupyter notebook)\n"
   ]
  },
  {
   "cell_type": "code",
   "execution_count": null,
   "id": "b568cc20-2c21-4d1b-924f-1fba47796836",
   "metadata": {},
   "outputs": [],
   "source": []
  }
 ],
 "metadata": {
  "kernelspec": {
   "display_name": "base",
   "language": "python",
   "name": "python3"
  },
  "language_info": {
   "codemirror_mode": {
    "name": "ipython",
    "version": 3
   },
   "file_extension": ".py",
   "mimetype": "text/x-python",
   "name": "python",
   "nbconvert_exporter": "python",
   "pygments_lexer": "ipython3",
   "version": "3.12.7"
  }
 },
 "nbformat": 4,
 "nbformat_minor": 5
}

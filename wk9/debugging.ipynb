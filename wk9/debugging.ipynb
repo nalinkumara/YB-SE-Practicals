{
 "cells": [
  {
   "cell_type": "code",
   "execution_count": 13,
   "id": "d54f011e-918e-4af8-9d88-bdd3abe5ac0a",
   "metadata": {},
   "outputs": [],
   "source": [
    "from random import randint"
   ]
  },
  {
   "cell_type": "code",
   "execution_count": 14,
   "id": "e02fd5e3-2b7e-471a-a87d-815b42ed4b54",
   "metadata": {},
   "outputs": [
    {
     "name": "stdout",
     "output_type": "stream",
     "text": [
      "You got it!\n"
     ]
    }
   ],
   "source": [
    "# example 1\n",
    "for i in range(1, 21):\n",
    "    if i == 20:\n",
    "        print(f\"You got it!\")\n",
    "\n",
    "# Describe the problem - Write your answers as comments:\n",
    "# 1. what is the loop doing?\n",
    "# 2. When is the function meant to print \"You got it!\"?\n",
    "# 3. What are your assumptions about the value of i?"
   ]
  },
  {
   "cell_type": "markdown",
   "id": "f6093f8a",
   "metadata": {},
   "source": [
    "Loop runs until i == 19 in the range function but below if expect it to be 20. i will run from 1 to 19\n",
    "\n",
    "You can simply fix it by changing the range."
   ]
  },
  {
   "cell_type": "code",
   "execution_count": null,
   "id": "c98e40dc-8074-4260-aeeb-261b2b599563",
   "metadata": {},
   "outputs": [],
   "source": []
  },
  {
   "cell_type": "code",
   "execution_count": 26,
   "id": "8d18a63c-ab13-4a31-942c-be33a1607cda",
   "metadata": {},
   "outputs": [
    {
     "name": "stdout",
     "output_type": "stream",
     "text": [
      "4\n"
     ]
    }
   ],
   "source": [
    "# from random import randint\n",
    "# example 2\n",
    "dice_images = [\"1\", \"2\", \"3\", \"4\", \"5\", \"6\"]\n",
    "dice_num = randint(0, 5)\n",
    "print(dice_images[dice_num])"
   ]
  },
  {
   "cell_type": "markdown",
   "id": "2fd4d725",
   "metadata": {},
   "source": [
    "Range was appropreate"
   ]
  },
  {
   "cell_type": "code",
   "execution_count": null,
   "id": "a865d918-5ee4-4c6a-beda-bbcd2e3ea9fa",
   "metadata": {},
   "outputs": [],
   "source": []
  },
  {
   "cell_type": "code",
   "execution_count": 30,
   "id": "88ce2963-10bf-42ec-a02f-89811bda74fe",
   "metadata": {},
   "outputs": [
    {
     "name": "stdout",
     "output_type": "stream",
     "text": [
      "You are a Millennial\n"
     ]
    }
   ],
   "source": [
    "# example 3\n",
    "year = int(input(\"What is your year of birth?\"))\n",
    "\n",
    "if year > 1980 and year <= 1994:\n",
    "    print(\"You are a Millennial\")\n",
    "elif year > 1994:\n",
    "    print(\"You are a Gen Z\")"
   ]
  },
  {
   "cell_type": "code",
   "execution_count": null,
   "id": "cef788ca",
   "metadata": {},
   "outputs": [],
   "source": []
  },
  {
   "cell_type": "markdown",
   "id": "01750add",
   "metadata": {},
   "source": [
    "This does not work for the year 1994. It does not satisfy first if elif"
   ]
  },
  {
   "cell_type": "code",
   "execution_count": null,
   "id": "95197a19-1f0c-49b1-8d98-06f9098eaa91",
   "metadata": {},
   "outputs": [],
   "source": []
  },
  {
   "cell_type": "code",
   "execution_count": 49,
   "id": "c285fc19-0db3-4af1-bcbe-53bbbeccece4",
   "metadata": {},
   "outputs": [
    {
     "name": "stdout",
     "output_type": "stream",
     "text": [
      "We have 0 in total.\n"
     ]
    }
   ],
   "source": [
    "# example 4\n",
    "word_per_page = 0\n",
    "pages = int(input(\"Number of pages: \"))\n",
    "word_per_page == int(input(\"Number of words per page: \"))\n",
    "total_words = pages * word_per_page\n",
    "\n",
    "print(f\"We have {total_words} in total.\")"
   ]
  },
  {
   "cell_type": "code",
   "execution_count": 65,
   "id": "a06c6fa2-8fd9-471d-aed7-c76f37704579",
   "metadata": {},
   "outputs": [
    {
     "ename": "ValueError",
     "evalue": "invalid literal for int() with base 10: ''",
     "output_type": "error",
     "traceback": [
      "\u001b[1;31m---------------------------------------------------------------------------\u001b[0m",
      "\u001b[1;31mValueError\u001b[0m                                Traceback (most recent call last)",
      "Cell \u001b[1;32mIn[65], line 3\u001b[0m\n\u001b[0;32m      1\u001b[0m \u001b[38;5;66;03m# example 4 - Correction\u001b[39;00m\n\u001b[0;32m      2\u001b[0m \u001b[38;5;66;03m# word_per_page = 0  -- Redundant syntax\u001b[39;00m\n\u001b[1;32m----> 3\u001b[0m pages \u001b[38;5;241m=\u001b[39m \u001b[38;5;28mint\u001b[39m(\u001b[38;5;28minput\u001b[39m(\u001b[38;5;124m\"\u001b[39m\u001b[38;5;124mNumber of pages: \u001b[39m\u001b[38;5;124m\"\u001b[39m))\n\u001b[0;32m      4\u001b[0m word_per_page \u001b[38;5;241m=\u001b[39m \u001b[38;5;28mint\u001b[39m(\u001b[38;5;28minput\u001b[39m(\u001b[38;5;124m\"\u001b[39m\u001b[38;5;124mNumber of words per page: \u001b[39m\u001b[38;5;124m\"\u001b[39m))\n\u001b[0;32m      5\u001b[0m total_words \u001b[38;5;241m=\u001b[39m pages \u001b[38;5;241m*\u001b[39m word_per_page\n",
      "\u001b[1;31mValueError\u001b[0m: invalid literal for int() with base 10: ''"
     ]
    }
   ],
   "source": [
    "# example 4 - Correction\n",
    "# word_per_page = 0  -- Redundant syntax\n",
    "pages = int(input(\"Number of pages: \"))\n",
    "word_per_page = int(input(\"Number of words per page: \"))\n",
    "total_words = pages * word_per_page\n",
    "\n",
    "print(f\"We have {total_words} in total.\")"
   ]
  },
  {
   "cell_type": "code",
   "execution_count": 69,
   "id": "2effe735-10b3-4966-bb79-fffd2dc5138f",
   "metadata": {},
   "outputs": [],
   "source": [
    "# example 5\n",
    "def add(a1, a2):\n",
    "    return a1 + a2\n",
    "\n",
    "def mutate(a_list):\n",
    "    b_list = []\n",
    "    # new_item = 0  -- Redundant\n",
    "    r_list = []\n",
    "    for item in a_list:\n",
    "        new_item = item * 2\n",
    "        rnad_value = randint(1, 3) \n",
    "        r_list.append(rnad_value)\n",
    "        new_item += rnad_value \n",
    "        new_item = add(new_item, item)\n",
    "        b_list.append(new_item) # Should be inside the loop\n",
    "    #print(r_list)\n",
    "    #print(b_list)\n",
    "    return b_list, r_list"
   ]
  },
  {
   "cell_type": "code",
   "execution_count": 70,
   "id": "2f7d32a6-565c-4573-9fb2-6203e69943f9",
   "metadata": {},
   "outputs": [
    {
     "name": "stdout",
     "output_type": "stream",
     "text": [
      "([8.899999999999999, 7.8999999999999995, 10, 18, 5, 65, 14, 106], [2, 1, 1, 3, 2, 2, 2, 1])\n"
     ]
    }
   ],
   "source": [
    "a_demo_list = [2.3, 2.3, 3, 5, 1, 21, 4, 35]\n",
    "result = mutate(a_demo_list)\n",
    "print(result)"
   ]
  },
  {
   "cell_type": "code",
   "execution_count": null,
   "id": "d4192a55-7ed1-4052-b5ac-3cc3a1c1a7c5",
   "metadata": {},
   "outputs": [],
   "source": []
  },
  {
   "cell_type": "code",
   "execution_count": null,
   "id": "0f6a8d7e-d608-4d89-872f-33b4478ce2d3",
   "metadata": {},
   "outputs": [],
   "source": []
  }
 ],
 "metadata": {
  "kernelspec": {
   "display_name": "base",
   "language": "python",
   "name": "python3"
  },
  "language_info": {
   "codemirror_mode": {
    "name": "ipython",
    "version": 3
   },
   "file_extension": ".py",
   "mimetype": "text/x-python",
   "name": "python",
   "nbconvert_exporter": "python",
   "pygments_lexer": "ipython3",
   "version": "3.12.7"
  }
 },
 "nbformat": 4,
 "nbformat_minor": 5
}
